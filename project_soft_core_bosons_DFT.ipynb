{
  "nbformat": 4,
  "nbformat_minor": 0,
  "metadata": {
    "kernelspec": {
      "display_name": "Python 3",
      "language": "python",
      "name": "python3"
    },
    "language_info": {
      "codemirror_mode": {
        "name": "ipython",
        "version": 3
      },
      "file_extension": ".py",
      "mimetype": "text/x-python",
      "name": "python",
      "nbconvert_exporter": "python",
      "pygments_lexer": "ipython3",
      "version": "3.7.1"
    },
    "colab": {
      "name": "project_soft_core_bosons_DFT.ipynb",
      "provenance": [],
      "collapsed_sections": []
    },
    "accelerator": "GPU"
  },
  "cells": [
    {
      "cell_type": "code",
      "metadata": {
        "id": "cBSnTymgrrg1"
      },
      "source": [
        "import numpy as np \n",
        "import matplotlib.pyplot as plt\n",
        "import math\n",
        "import scipy\n",
        "from scipy import special\n",
        "import time\n",
        "from time import strftime, gmtime\n",
        "from tqdm.auto import tqdm, trange\n",
        "from tqdm import tqdm\n",
        "\n",
        "import concurrent.futures\n",
        "import multiprocessing\n",
        "num_processes = multiprocessing.cpu_count()\n",
        "\n",
        "%matplotlib inline\n"
      ],
      "execution_count": 299,
      "outputs": []
    },
    {
      "cell_type": "markdown",
      "metadata": {
        "id": "jjv6Ia9eAo01"
      },
      "source": [
        "Vamos definir as constantes e as funções necessárias"
      ]
    },
    {
      "cell_type": "code",
      "metadata": {
        "id": "v8VOkcZis86l"
      },
      "source": [
        "pi = math.pi # Constante pi\n",
        "\n",
        "\n",
        "Lambda = np.double(0.01)\n",
        "rs = np.double(3.0)\n",
        "\n",
        "\n",
        "distancia_total = 5.0*rs\n",
        "\n",
        "N = 500 # Discretização da distância radial r \n",
        "\n",
        "dr = np.double(distancia_total/N)  # Tamanho do diferencial\n",
        "\n",
        "dt = np.double(0.01)\n",
        "\n",
        "\n",
        "# O potencial gaussiano\n",
        "def v( r):\n",
        "  r = np.double(r)\n",
        "  return math.exp(-pow(r,2.0)/2.0)\n",
        "\n",
        "\n",
        "# A função modificada de Bessel de ordem 0\n",
        "def integracao_angular( x):\n",
        "  return scipy.special.i0( x)\n",
        "\n",
        "\n",
        "# O integrando\n",
        "def integrando( dr, i, j):\n",
        "\n",
        "  if (i*dr<7.0) & (j*dr<7.0):\n",
        "    aux = (2.0*pi)*dr*dr*math.exp( -(pow(i*dr, 2.0)+pow(j*dr, 2.0))/2.0 )*\\\n",
        "    integracao_angular( (i*dr)*(j*dr) )*(f[i]*f[i]-1.0)*f[j]\n",
        "    return aux\n",
        "  else:\n",
        "    return 0\n",
        "\n",
        "\n",
        "# Segunda derivada de três pontos\n",
        "\n",
        "def derivada_segunda( dr, y_anterior, y_0, y_posterior):\n",
        "\n",
        "  derivada = (y_posterior+y_anterior-2.0*y_0)/(dr*dr)\n",
        "\n",
        "  return derivada\n",
        "\n"
      ],
      "execution_count": 348,
      "outputs": []
    },
    {
      "cell_type": "markdown",
      "metadata": {
        "id": "1YdsUxl5AxXn"
      },
      "source": [
        "O texto principal do código. Antes de tudo, o tempo de atualizações ```t_max``` \n",
        "deve ser informado\n"
      ]
    },
    {
      "cell_type": "code",
      "metadata": {
        "id": "az1ybvxLC0op"
      },
      "source": [
        "t_max = 100 # O número máximo de atualizações de f pela H"
      ],
      "execution_count": 349,
      "outputs": []
    },
    {
      "cell_type": "code",
      "metadata": {
        "id": "-QNLdAU0wcTo",
        "outputId": "3e448f01-599c-46bf-fa79-51441e95e0e7",
        "colab": {
          "base_uri": "https://localhost:8080/"
        }
      },
      "source": [
        "start_time = time.time()\n",
        "\n",
        "\n",
        "F = np.array([np.double(0.0)]*N)\n",
        "f = np.array([np.double(1.0)]*N)   # Condição inicial\n",
        "\n",
        "termo_interacao = np.double(0.0)\n",
        "\n",
        "\n",
        "for t in range(1,t_max):\n",
        "  \n",
        "  termo_interacao = 0.0\n",
        "  \n",
        "  # Calcula a integral e F em i=0 (r=0), assumindo que f[i<0]=0 \n",
        "  for i in range(0,len(f)-1):\n",
        "\n",
        "    termo_interacao += integrando(dr,i,0)\n",
        "  \n",
        "  # F no primeiro ponto de r\n",
        "  F[0] = -(Lambda/(2.0*rs*rs))*derivada_segunda(dr,f[0],f[0],f[0]) + v(0.0)*f[0] +\\\n",
        "  termo_interacao\n",
        "\n",
        "\n",
        "  \n",
        "  # Calcula F para os demais pontos i>0\n",
        "\n",
        "  for i in range(1,len(f)-1):\n",
        "\n",
        "    termo_interacao = 0.0 \n",
        "    \n",
        "    for j in range(0,len(f)-1):\n",
        "      termo_interacao += integrando(dr,j,i)\n",
        "    \n",
        "\n",
        "    # F para i>0\n",
        "    F[i] = -(Lambda/(2.0*rs*rs))*derivada_segunda(dr,f[i-1],f[i],f[i+1]) + \\\n",
        "    v(i*dr)*f[i] + termo_interacao\n",
        "\n",
        "  # Atualização de f: \n",
        "\n",
        "  f = f - dt*F\n",
        "\n",
        "  f[f<0.0] = 0\n",
        "\n",
        "  f[-1] = 1.0 # O último ponto deve continuar sendo igual a 1.0\n",
        "\n",
        "\n",
        "elapsed_time = time.time() - start_time\n",
        "print(\"Tempo de processamento: \"+str(strftime(\"%H:%M:%S\", gmtime(elapsed_time))))\n",
        "\n",
        "final_f = np.copy(f)\n",
        "final_F = np.copy(F)\n",
        "\n",
        "del f, F\n",
        "\n"
      ],
      "execution_count": 365,
      "outputs": [
        {
          "output_type": "stream",
          "text": [
            "Tempo de processamento: 00:00:55\n"
          ],
          "name": "stdout"
        }
      ]
    },
    {
      "cell_type": "markdown",
      "metadata": {
        "id": "M17OILwnExxW"
      },
      "source": [
        "O plot: "
      ]
    },
    {
      "cell_type": "code",
      "metadata": {
        "id": "jdGseQlKA7_m",
        "outputId": "b793fa20-f029-4b24-f6bb-bcb52e4137ba",
        "colab": {
          "base_uri": "https://localhost:8080/",
          "height": 296
        }
      },
      "source": [
        "plt.plot(final_f)\n",
        "plt.xlim(0, 500)\n",
        "plt.title(\"Lambda = \"+ str(Lambda) + \"\\n\" + \"rs = \" + str(rs))\n",
        "plt.ylim(0, 1.3*np.amax(final_f))\n",
        "plt.show()"
      ],
      "execution_count": 366,
      "outputs": [
        {
          "output_type": "display_data",
          "data": {
            "image/png": "[encoded data removed]",
            "text/plain": [
              "<Figure size 432x288 with 1 Axes>"
            ]
          },
          "metadata": {
            "tags": [],
            "needs_background": "light"
          }
        }
      ]
    },
    {
      "cell_type": "code",
      "metadata": {
        "id": "StVpyW1FA8lT"
      },
      "source": [
        "\n",
        "def integracao_angular2(x):\n",
        "  if (abs(x)< 3.75):\n",
        "    y=x/3.75\n",
        "    y = y*y\n",
        "    ans=1.0+y*(3.5156229+y*(3.0899424+y*(1.2067492+y*(0.2659732+y*(0.360768e-1+y*0.45813e-2)))))\n",
        "  else:\n",
        "    y=3.75/x\n",
        "    ans=(math.exp(x)/math.sqrt(x))*(0.39894228+y*(0.1328592e-1+y*(0.225319e-2+y*(-0.157565e-2+y*(0.916281e-2+y*(-0.2057706e-1+y*(0.2635537e-1+y*(-0.1647633e-1+y*0.392377e-2))))))))\n",
        "  \n",
        "  return ans\n",
        "\n",
        "\n",
        "\n"
      ],
      "execution_count": 270,
      "outputs": []
    },
    {
      "cell_type": "code",
      "metadata": {
        "id": "awGH2wpyTuYi",
        "outputId": "de4cd272-e161-4deb-b04f-ebba44c44b53",
        "colab": {
          "base_uri": "https://localhost:8080/",
          "height": 269
        }
      },
      "source": [
        "f = np.array([0.0]*10000)\n",
        "\n",
        "n = 33\n",
        "\n",
        "for i in range(1,n):\n",
        "  aux1 = integracao_angular(np.double(i))\n",
        "  aux2 = integracao_angular2(float(i))\n",
        "  f[i] = (aux1-aux2)\n",
        "\n",
        "plt.plot(f)\n",
        "plt.xlim(0, n) \n",
        "plt.ylim(0, 0.01)\n",
        "plt.show()"
      ],
      "execution_count": 171,
      "outputs": [
        {
          "output_type": "display_data",
          "data": {
            "image/png": "[encoded data removed]",
            "text/plain": [
              "<Figure size 432x288 with 1 Axes>"
            ]
          },
          "metadata": {
            "tags": [],
            "needs_background": "light"
          }
        }
      ]
    },
    {
      "cell_type": "code",
      "metadata": {
        "id": "GRSDpdA95VQY",
        "outputId": "1ce84c02-9924-47fd-c0c0-82f577573af1",
        "colab": {
          "base_uri": "https://localhost:8080/",
          "height": 265
        }
      },
      "source": [
        "f = np.array([0.0]*10000)\n",
        "\n",
        "n = 10\n",
        "\n",
        "\n",
        "for i in range(1,n):\n",
        "  aux1 = integracao_angular(float(i))\n",
        "  aux2 = v(i)\n",
        "  f[i] = aux1*aux2\n",
        "\n",
        "plt.plot(f)\n",
        "plt.xlim(0, n)\n",
        " \n",
        "plt.ylim(0, 1.2*np.amax(f))\n",
        "plt.show()"
      ],
      "execution_count": 175,
      "outputs": [
        {
          "output_type": "display_data",
          "data": {
            "image/png": "[encoded data removed]",
            "text/plain": [
              "<Figure size 432x288 with 1 Axes>"
            ]
          },
          "metadata": {
            "tags": [],
            "needs_background": "light"
          }
        }
      ]
    },
    {
      "cell_type": "code",
      "metadata": {
        "id": "p9TPqmE-5uRJ",
        "outputId": "6ea32df4-2ac1-4ca7-ccf1-6f5ef3744010",
        "colab": {
          "base_uri": "https://localhost:8080/"
        }
      },
      "source": [
        "f[8]\n"
      ],
      "execution_count": 173,
      "outputs": [
        {
          "output_type": "execute_result",
          "data": {
            "text/plain": [
              "5.414742744352995e-12"
            ]
          },
          "metadata": {
            "tags": []
          },
          "execution_count": 173
        }
      ]
    },
    {
      "cell_type": "code",
      "metadata": {
        "id": "NXXqUw5uMaLn"
      },
      "source": [
        "a = np.longdouble(1.0)"
      ],
      "execution_count": 80,
      "outputs": []
    },
    {
      "cell_type": "code",
      "metadata": {
        "id": "QFf4Lp9qUfQp"
      },
      "source": [
        "del f, F"
      ],
      "execution_count": 147,
      "outputs": []
    },
    {
      "cell_type": "code",
      "metadata": {
        "id": "7uiyvG3hXbqx",
        "outputId": "1ac8de84-08bd-41d5-853f-30fb9feadb51",
        "colab": {
          "base_uri": "https://localhost:8080/",
          "height": 374
        }
      },
      "source": [
        "Lambda = np.double(1.0/30.0)\n",
        "\n",
        "rs = np.double(1.5)\n",
        "\n",
        "distancia_total = 5.0*rs\n",
        "\n",
        "N = 100 # Discretização da distância radial r \n",
        "\n",
        "dr = np.double(distancia_total/N)  # Tamanho do diferencial\n",
        "\n",
        "dt = np.double(0.1)\n",
        "\n",
        "t_max = 100\n",
        "\n",
        "final_f = calculo(Lambda, rs, N, dr, dt, t_max)\n",
        "\n",
        "plt.plot(final_f)\n",
        "plt.xlim(0, 500)\n",
        "plt.title(\"Lambda = \"+ str(Lambda) + \"\\n\" + \"rs = \" + str(rs))\n",
        "plt.ylim(0, 1.3*np.amax(final_f))\n",
        "plt.show()"
      ],
      "execution_count": 340,
      "outputs": [
        {
          "output_type": "error",
          "ename": "NameError",
          "evalue": "ignored",
          "traceback": [
            "\u001b[0;31m---------------------------------------------------------------------------\u001b[0m",
            "\u001b[0;31mNameError\u001b[0m                                 Traceback (most recent call last)",
            "\u001b[0;32m<ipython-input-340-32d30f5c9b79>\u001b[0m in \u001b[0;36m<module>\u001b[0;34m()\u001b[0m\n\u001b[1;32m     13\u001b[0m \u001b[0mt_max\u001b[0m \u001b[0;34m=\u001b[0m \u001b[0;36m100\u001b[0m\u001b[0;34m\u001b[0m\u001b[0;34m\u001b[0m\u001b[0m\n\u001b[1;32m     14\u001b[0m \u001b[0;34m\u001b[0m\u001b[0m\n\u001b[0;32m---> 15\u001b[0;31m \u001b[0mfinal_f\u001b[0m \u001b[0;34m=\u001b[0m \u001b[0mcalculo\u001b[0m\u001b[0;34m(\u001b[0m\u001b[0mLambda\u001b[0m\u001b[0;34m,\u001b[0m \u001b[0mrs\u001b[0m\u001b[0;34m,\u001b[0m \u001b[0mN\u001b[0m\u001b[0;34m,\u001b[0m \u001b[0mdr\u001b[0m\u001b[0;34m,\u001b[0m \u001b[0mdt\u001b[0m\u001b[0;34m,\u001b[0m \u001b[0mt_max\u001b[0m\u001b[0;34m)\u001b[0m\u001b[0;34m\u001b[0m\u001b[0;34m\u001b[0m\u001b[0m\n\u001b[0m\u001b[1;32m     16\u001b[0m \u001b[0;34m\u001b[0m\u001b[0m\n\u001b[1;32m     17\u001b[0m \u001b[0mplt\u001b[0m\u001b[0;34m.\u001b[0m\u001b[0mplot\u001b[0m\u001b[0;34m(\u001b[0m\u001b[0mfinal_f\u001b[0m\u001b[0;34m)\u001b[0m\u001b[0;34m\u001b[0m\u001b[0;34m\u001b[0m\u001b[0m\n",
            "\u001b[0;32m<ipython-input-339-ca0557996779>\u001b[0m in \u001b[0;36mcalculo\u001b[0;34m(Lambda, rs, N, dr, dt, t_max)\u001b[0m\n\u001b[1;32m     17\u001b[0m    \u001b[0;32mfor\u001b[0m \u001b[0mi\u001b[0m \u001b[0;32min\u001b[0m \u001b[0mrange\u001b[0m\u001b[0;34m(\u001b[0m\u001b[0;36m0\u001b[0m\u001b[0;34m,\u001b[0m\u001b[0mlen\u001b[0m\u001b[0;34m(\u001b[0m\u001b[0mf\u001b[0m\u001b[0;34m)\u001b[0m\u001b[0;34m-\u001b[0m\u001b[0;36m1\u001b[0m\u001b[0;34m)\u001b[0m\u001b[0;34m:\u001b[0m\u001b[0;34m\u001b[0m\u001b[0;34m\u001b[0m\u001b[0m\n\u001b[1;32m     18\u001b[0m \u001b[0;34m\u001b[0m\u001b[0m\n\u001b[0;32m---> 19\u001b[0;31m      \u001b[0mtermo_interacao\u001b[0m \u001b[0;34m+=\u001b[0m \u001b[0mintegrando\u001b[0m\u001b[0;34m(\u001b[0m\u001b[0mdr\u001b[0m\u001b[0;34m,\u001b[0m\u001b[0mi\u001b[0m\u001b[0;34m,\u001b[0m\u001b[0;36m0\u001b[0m\u001b[0;34m)\u001b[0m\u001b[0;34m\u001b[0m\u001b[0;34m\u001b[0m\u001b[0m\n\u001b[0m\u001b[1;32m     20\u001b[0m \u001b[0;34m\u001b[0m\u001b[0m\n\u001b[1;32m     21\u001b[0m    \u001b[0;31m# F no primeiro ponto de r\u001b[0m\u001b[0;34m\u001b[0m\u001b[0;34m\u001b[0m\u001b[0;34m\u001b[0m\u001b[0m\n",
            "\u001b[0;32m<ipython-input-327-15075577be1b>\u001b[0m in \u001b[0;36mintegrando\u001b[0;34m(dr, i, j)\u001b[0m\n\u001b[1;32m     30\u001b[0m \u001b[0;34m\u001b[0m\u001b[0m\n\u001b[1;32m     31\u001b[0m   \u001b[0;32mif\u001b[0m \u001b[0;34m(\u001b[0m\u001b[0mi\u001b[0m\u001b[0;34m*\u001b[0m\u001b[0mdr\u001b[0m\u001b[0;34m<\u001b[0m\u001b[0;36m7.0\u001b[0m\u001b[0;34m)\u001b[0m \u001b[0;34m&\u001b[0m \u001b[0;34m(\u001b[0m\u001b[0mj\u001b[0m\u001b[0;34m*\u001b[0m\u001b[0mdr\u001b[0m\u001b[0;34m<\u001b[0m\u001b[0;36m7.0\u001b[0m\u001b[0;34m)\u001b[0m\u001b[0;34m:\u001b[0m\u001b[0;34m\u001b[0m\u001b[0;34m\u001b[0m\u001b[0m\n\u001b[0;32m---> 32\u001b[0;31m     \u001b[0maux\u001b[0m \u001b[0;34m=\u001b[0m \u001b[0;34m(\u001b[0m\u001b[0;36m2.0\u001b[0m\u001b[0;34m*\u001b[0m\u001b[0mpi\u001b[0m\u001b[0;34m)\u001b[0m\u001b[0;34m*\u001b[0m\u001b[0mdr\u001b[0m\u001b[0;34m*\u001b[0m\u001b[0mdr\u001b[0m\u001b[0;34m*\u001b[0m\u001b[0mmath\u001b[0m\u001b[0;34m.\u001b[0m\u001b[0mexp\u001b[0m\u001b[0;34m(\u001b[0m \u001b[0;34m-\u001b[0m\u001b[0;34m(\u001b[0m\u001b[0mpow\u001b[0m\u001b[0;34m(\u001b[0m\u001b[0mi\u001b[0m\u001b[0;34m*\u001b[0m\u001b[0mdr\u001b[0m\u001b[0;34m,\u001b[0m \u001b[0;36m2.0\u001b[0m\u001b[0;34m)\u001b[0m\u001b[0;34m+\u001b[0m\u001b[0mpow\u001b[0m\u001b[0;34m(\u001b[0m\u001b[0mj\u001b[0m\u001b[0;34m*\u001b[0m\u001b[0mdr\u001b[0m\u001b[0;34m,\u001b[0m \u001b[0;36m2.0\u001b[0m\u001b[0;34m)\u001b[0m\u001b[0;34m)\u001b[0m\u001b[0;34m/\u001b[0m\u001b[0;36m2.0\u001b[0m \u001b[0;34m)\u001b[0m\u001b[0;34m*\u001b[0m    \u001b[0mintegracao_angular\u001b[0m\u001b[0;34m(\u001b[0m \u001b[0;34m(\u001b[0m\u001b[0mi\u001b[0m\u001b[0;34m*\u001b[0m\u001b[0mdr\u001b[0m\u001b[0;34m)\u001b[0m\u001b[0;34m*\u001b[0m\u001b[0;34m(\u001b[0m\u001b[0mj\u001b[0m\u001b[0;34m*\u001b[0m\u001b[0mdr\u001b[0m\u001b[0;34m)\u001b[0m \u001b[0;34m)\u001b[0m\u001b[0;34m*\u001b[0m\u001b[0;34m(\u001b[0m\u001b[0mf\u001b[0m\u001b[0;34m[\u001b[0m\u001b[0mi\u001b[0m\u001b[0;34m]\u001b[0m\u001b[0;34m*\u001b[0m\u001b[0mf\u001b[0m\u001b[0;34m[\u001b[0m\u001b[0mi\u001b[0m\u001b[0;34m]\u001b[0m\u001b[0;34m-\u001b[0m\u001b[0;36m1.0\u001b[0m\u001b[0;34m)\u001b[0m\u001b[0;34m*\u001b[0m\u001b[0mf\u001b[0m\u001b[0;34m[\u001b[0m\u001b[0mj\u001b[0m\u001b[0;34m]\u001b[0m\u001b[0;34m\u001b[0m\u001b[0;34m\u001b[0m\u001b[0m\n\u001b[0m\u001b[1;32m     33\u001b[0m     \u001b[0;32mreturn\u001b[0m \u001b[0maux\u001b[0m\u001b[0;34m\u001b[0m\u001b[0;34m\u001b[0m\u001b[0m\n\u001b[1;32m     34\u001b[0m   \u001b[0;32melse\u001b[0m\u001b[0;34m:\u001b[0m\u001b[0;34m\u001b[0m\u001b[0;34m\u001b[0m\u001b[0m\n",
            "\u001b[0;31mNameError\u001b[0m: name 'f' is not defined"
          ]
        }
      ]
    },
    {
      "cell_type": "code",
      "metadata": {
        "id": "WblSbygRCY0Q"
      },
      "source": [
        ""
      ],
      "execution_count": 337,
      "outputs": []
    }
  ]
}